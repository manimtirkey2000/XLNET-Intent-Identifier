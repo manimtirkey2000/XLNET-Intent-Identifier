{
 "cells": [
  {
   "cell_type": "code",
   "execution_count": 3,
   "id": "initial_id",
   "metadata": {
    "collapsed": true,
    "ExecuteTime": {
     "end_time": "2024-11-26T17:06:16.052782Z",
     "start_time": "2024-11-26T17:06:15.906840Z"
    }
   },
   "outputs": [
    {
     "data": {
      "text/plain": "('/Users/manimtirkey/PycharmProjects/pythonProject5/combined_df.csv',\n '/Users/manimtirkey/PycharmProjects/pythonProject5/combined_data.csv')"
     },
     "execution_count": 3,
     "metadata": {},
     "output_type": "execute_result"
    }
   ],
   "source": [
    "import pandas as pd\n",
    "import json\n",
    "\n",
    "# Load the JSON files\n",
    "cta_human_file_path = 'human_annotated_cta.json'\n",
    "de_human_file_path = 'human_annotated_de.json'\n",
    "cta_weak_file_path = 'weak_annotated_cta.json'\n",
    "de_weak_file_path = 'weak_annotated_de.json'\n",
    "\n",
    "with open(cta_human_file_path, 'r') as file:\n",
    "    cta_human_data = json.load(file)\n",
    "\n",
    "with open(de_human_file_path, 'r') as file:\n",
    "    de_human_data = json.load(file)\n",
    "\n",
    "with open(cta_weak_file_path, 'r') as file:\n",
    "    cta_weak_data = json.load(file)\n",
    "\n",
    "with open(de_weak_file_path, 'r') as file:\n",
    "    de_weak_data = json.load(file)\n",
    "\n",
    "# Helper function to process data\n",
    "def process_data(data, category_subject_key, category_action_key, category_name):\n",
    "    processed_data = []\n",
    "    for entry in data:\n",
    "        tid = entry.get(\"tid\", None)\n",
    "        text = entry.get(\"text\", \"\")\n",
    "        subjects = [subject[\"span_text\"] for subject in entry.get(category_subject_key, [])]\n",
    "        actions_phrases = [action[\"span_text\"] for action in entry.get(category_action_key, [])]\n",
    "        \n",
    "        processed_data.append({\n",
    "            \"TID\": tid,\n",
    "            \"Tweet\": text,\n",
    "            \"Subjects\": subjects,\n",
    "            \"Action/Phrases\": actions_phrases,\n",
    "            \"Category\": category_name\n",
    "        })\n",
    "    return processed_data\n",
    "# Process each dataset\n",
    "cta_human_processed = process_data(cta_human_data, \"called_subjects\", \"called_actions\", \"CTA\")\n",
    "de_human_processed = process_data(de_human_data, \"discredited_subjects\", \"discrediting_phrases\", \"DE\")\n",
    "cta_weak_processed = process_data(cta_weak_data, \"called_subjects\", \"called_actions\", \"CTA\")\n",
    "de_weak_processed = process_data(de_weak_data, \"discredited_subjects\", \"discrediting_phrases\", \"DE\")\n",
    "\n",
    "# Combine all data\n",
    "combined_data = cta_human_processed + de_human_processed + cta_weak_processed + de_weak_processed\n",
    "\n",
    "# Convert to DataFrame\n",
    "combined_df = pd.DataFrame(combined_data)\n",
    "\n",
    "# Handle TID conflicts by merging rows with the same TID\n",
    "combined_df = combined_df.groupby(\"TID\").agg({\n",
    "    \"Tweet\": \"first\",\n",
    "    \"Subjects\": lambda x: list(set(sum(x, []))),\n",
    "    \"Action/Phrases\": lambda x: list(set(sum(x, []))),\n",
    "    \"Category\": lambda x: list(set(x))\n",
    "}).reset_index()\n",
    "\n",
    "# Save to CSV\n",
    "import os\n",
    "\n",
    "# Get the directory of the current notebook\n",
    "notebook_dir = os.path.dirname('/Users/manimtirkey/PycharmProjects/pythonProject5/dataset_extraction_NLP_FTP.ipynb')\n",
    "\n",
    "# Define output paths\n",
    "output_combined_df_path = os.path.join(notebook_dir, \"combined_df.csv\")\n",
    "output_combined_data_path = os.path.join(notebook_dir, \"combined_data.csv\")\n",
    "\n",
    "# Save combined_df to CSV\n",
    "combined_df.to_csv(output_combined_df_path, index=False)\n",
    "\n",
    "# Save combined_data to CSV by first converting it to a DataFrame\n",
    "pd.DataFrame(combined_data).to_csv(output_combined_data_path, index=False)\n",
    "\n",
    "# Verify the paths\n",
    "output_combined_df_path, output_combined_data_path\n"
   ]
  },
  {
   "cell_type": "code",
   "execution_count": 3,
   "outputs": [],
   "source": [],
   "metadata": {
    "collapsed": false,
    "ExecuteTime": {
     "end_time": "2024-11-26T17:06:16.055679Z",
     "start_time": "2024-11-26T17:06:16.052574Z"
    }
   },
   "id": "243cce859457cd7f"
  }
 ],
 "metadata": {
  "kernelspec": {
   "display_name": "Python 3",
   "language": "python",
   "name": "python3"
  },
  "language_info": {
   "codemirror_mode": {
    "name": "ipython",
    "version": 2
   },
   "file_extension": ".py",
   "mimetype": "text/x-python",
   "name": "python",
   "nbconvert_exporter": "python",
   "pygments_lexer": "ipython2",
   "version": "2.7.6"
  }
 },
 "nbformat": 4,
 "nbformat_minor": 5
}
